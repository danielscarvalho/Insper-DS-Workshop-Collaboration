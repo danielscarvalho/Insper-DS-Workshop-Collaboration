{
 "cells": [
  {
   "cell_type": "markdown",
   "id": "07cc5615",
   "metadata": {},
   "source": [
    "# GitHub Pages: Publicando e consumindo dados estáticos no GitHub como página WEB (site)"
   ]
  },
  {
   "cell_type": "markdown",
   "id": "79d5f07d",
   "metadata": {},
   "source": [
    "Criar seu repo (repositório) no GitHub, publicar com GitHub Pages. No site do GitHub menu, **Settings**, **Pages**...\n",
    "\n",
    "Note que a URL para acesso WEB (como página WEB) é diferente da URL do repositório original... ao publicar e atualizar há um \"delay\"..."
   ]
  },
  {
   "cell_type": "markdown",
   "id": "15556f5f",
   "metadata": {},
   "source": [
    "Repositório: https://github.com/danielscarvalho/Insper-DS-A1/\n",
    "\n",
    "Site: https://danielscarvalho.github.io/Insper-DS-A1/"
   ]
  },
  {
   "cell_type": "markdown",
   "id": "baa6de36",
   "metadata": {},
   "source": [
    "## Carregando um JSON"
   ]
  },
  {
   "cell_type": "code",
   "execution_count": 2,
   "id": "e3f42477",
   "metadata": {},
   "outputs": [],
   "source": [
    "import requests\n",
    "\n",
    "info=requests.get(\"https://danielscarvalho.github.io/Insper-DS-A1/data/info.json\").json()"
   ]
  },
  {
   "cell_type": "code",
   "execution_count": 3,
   "id": "68bf9afc",
   "metadata": {
    "scrolled": true
   },
   "outputs": [
    {
     "data": {
      "text/plain": [
       "list"
      ]
     },
     "execution_count": 3,
     "metadata": {},
     "output_type": "execute_result"
    }
   ],
   "source": [
    "type(info)"
   ]
  },
  {
   "cell_type": "code",
   "execution_count": 4,
   "id": "4116f527",
   "metadata": {
    "scrolled": true
   },
   "outputs": [
    {
     "data": {
      "text/plain": [
       "101"
      ]
     },
     "execution_count": 4,
     "metadata": {},
     "output_type": "execute_result"
    }
   ],
   "source": [
    "len(info)"
   ]
  },
  {
   "cell_type": "code",
   "execution_count": 5,
   "id": "e53ab8b3",
   "metadata": {},
   "outputs": [
    {
     "data": {
      "text/plain": [
       "{'_id': '62757c3d5df56143353a5200',\n",
       " 'index': 1,\n",
       " 'guid': '770b3b39-290b-489e-ae26-837300f7807c',\n",
       " 'isActive': False,\n",
       " 'balance': '$2,583.52',\n",
       " 'picture': 'http://placehold.it/32x32',\n",
       " 'age': 21,\n",
       " 'eyeColor': 'green',\n",
       " 'name': 'Helene Wilkins',\n",
       " 'gender': 'female',\n",
       " 'company': 'XURBAN',\n",
       " 'email': 'helenewilkins@xurban.com',\n",
       " 'phone': '+1 (907) 442-3770',\n",
       " 'address': '695 Scott Avenue, Shelby, Virginia, 5591',\n",
       " 'about': 'Aliqua incididunt reprehenderit eu ea laboris reprehenderit aliquip eiusmod mollit proident do. Magna occaecat velit reprehenderit veniam magna sint dolore. Reprehenderit excepteur consectetur in cillum consectetur velit sint amet velit deserunt commodo consectetur. Labore est excepteur adipisicing excepteur ad aute. Sit minim tempor enim ipsum deserunt commodo officia mollit incididunt eu laboris ipsum. Eu qui magna excepteur ex.\\r\\n',\n",
       " 'registered': '2015-06-26T07:39:55 +03:00',\n",
       " 'latitude': -41.396873,\n",
       " 'longitude': 140.660971,\n",
       " 'tags': ['ipsum', 'ipsum', 'cupidatat', 'in', 'duis', 'mollit', 'nulla'],\n",
       " 'friends': [{'id': 0, 'name': 'Dorothy Foley'},\n",
       "  {'id': 1, 'name': 'Dominguez Gregory'},\n",
       "  {'id': 2, 'name': 'Maura Reyes'}],\n",
       " 'greeting': 'Hello, Helene Wilkins! You have 4 unread messages.',\n",
       " 'favoriteFruit': 'banana'}"
      ]
     },
     "execution_count": 5,
     "metadata": {},
     "output_type": "execute_result"
    }
   ],
   "source": [
    "info[1]"
   ]
  },
  {
   "cell_type": "code",
   "execution_count": 7,
   "id": "13f9b97e",
   "metadata": {
    "scrolled": true
   },
   "outputs": [
    {
     "data": {
      "text/plain": [
       "dict"
      ]
     },
     "execution_count": 7,
     "metadata": {},
     "output_type": "execute_result"
    }
   ],
   "source": [
    "type(info[1])"
   ]
  },
  {
   "cell_type": "code",
   "execution_count": 8,
   "id": "779ba473",
   "metadata": {},
   "outputs": [
    {
     "data": {
      "text/plain": [
       "'Aliqua incididunt reprehenderit eu ea laboris reprehenderit aliquip eiusmod mollit proident do. Magna occaecat velit reprehenderit veniam magna sint dolore. Reprehenderit excepteur consectetur in cillum consectetur velit sint amet velit deserunt commodo consectetur. Labore est excepteur adipisicing excepteur ad aute. Sit minim tempor enim ipsum deserunt commodo officia mollit incididunt eu laboris ipsum. Eu qui magna excepteur ex.\\r\\n'"
      ]
     },
     "execution_count": 8,
     "metadata": {},
     "output_type": "execute_result"
    }
   ],
   "source": [
    "info[1][\"about\"]"
   ]
  },
  {
   "cell_type": "code",
   "execution_count": 9,
   "id": "edddd080",
   "metadata": {},
   "outputs": [
    {
     "name": "stdout",
     "output_type": "stream",
     "text": [
      "holmancurry@zilch.com\n",
      "helenewilkins@xurban.com\n",
      "ernahays@uxmox.com\n",
      "davenporthale@lotron.com\n",
      "thelmacampos@anarco.com\n",
      "sophiahiggins@synkgen.com\n",
      "beatrizhines@skinserve.com\n",
      "rowlandtalley@namegen.com\n",
      "marciejohnson@eplosion.com\n",
      "rosettaerickson@xiix.com\n",
      "karimaynard@aclima.com\n",
      "roslynkelley@cogentry.com\n",
      "smithpage@virxo.com\n",
      "latishaellis@jumpstack.com\n",
      "pachecole@speedbolt.com\n",
      "andreaburris@dognost.com\n",
      "irwinblevins@centuria.com\n",
      "belindagood@austech.com\n",
      "annetteking@zaya.com\n",
      "hendersonmatthews@isotrack.com\n",
      "nortonlawson@senmao.com\n",
      "ethelroberson@exotechno.com\n",
      "maryhayes@zaphire.com\n",
      "owenadams@miracula.com\n",
      "bridgettefrancis@musanpoly.com\n",
      "shericross@rodeocean.com\n",
      "bradychase@eventix.com\n",
      "angeliquemaldonado@deminimum.com\n",
      "patricacalhoun@comveyor.com\n",
      "barrrice@callflex.com\n",
      "brittanypope@comverges.com\n",
      "bridgetholland@paragonia.com\n",
      "wendynavarro@octocore.com\n",
      "dyerknapp@primordia.com\n",
      "hewittfleming@metroz.com\n",
      "mcgeeklein@kiosk.com\n",
      "margueritepreston@temorak.com\n",
      "katrinalamb@dancity.com\n",
      "lizziemeadows@bizmatic.com\n",
      "rhodaosborne@pholio.com\n",
      "lawsonharding@comvoy.com\n",
      "nicholsonmorrison@keeg.com\n",
      "newtonmckenzie@savvy.com\n",
      "conleynash@isologics.com\n",
      "burnettgamble@genmom.com\n",
      "frederickalvarado@earwax.com\n",
      "jodierush@enerforce.com\n",
      "bradshawhunter@gogol.com\n",
      "courtneyholmes@parleynet.com\n",
      "lindsaybeard@codax.com\n",
      "alstonramos@gynk.com\n",
      "agnesmckinney@bicol.com\n",
      "marjoriebuckley@inrt.com\n",
      "kaseypatton@danja.com\n",
      "kaylanorton@kindaloo.com\n",
      "brookecampbell@firewax.com\n",
      "kelleycole@overplex.com\n",
      "fultontaylor@medesign.com\n",
      "annabelledrake@zoxy.com\n",
      "gillespiegallegos@earthpure.com\n",
      "simonemercado@kaggle.com\n",
      "burnsunderwood@andryx.com\n",
      "whiteheadriggs@snacktion.com\n",
      "wagnerbell@strezzo.com\n",
      "pittmanday@scentric.com\n",
      "hesslambert@mediot.com\n",
      "knoxdillard@zoid.com\n",
      "neldapierce@xoggle.com\n",
      "kennedygay@zentime.com\n",
      "fischersanchez@comfirm.com\n",
      "laramiles@obones.com\n",
      "millsdouglas@spherix.com\n",
      "montgomerylester@portico.com\n",
      "mosesfernandez@bitendrex.com\n",
      "olivebishop@comdom.com\n",
      "nataliamendoza@accruex.com\n",
      "vondabranch@zillacon.com\n",
      "marissajustice@telpod.com\n",
      "tamerastrong@electonic.com\n",
      "millicentcardenas@insectus.com\n",
      "luellahewitt@organica.com\n",
      "pollysawyer@isoternia.com\n",
      "boyerdillon@oulu.com\n",
      "joannebeck@ramjob.com\n",
      "concepcionnixon@gorganic.com\n",
      "maxwelldowns@quizmo.com\n",
      "cottongreer@zerbina.com\n",
      "ednaharris@zepitope.com\n",
      "hinesbarr@isbol.com\n",
      "rosellapaul@kiggle.com\n",
      "claytonsutton@austex.com\n",
      "janicemullins@datagen.com\n",
      "romanochoa@earthwax.com\n",
      "hahnroach@limozen.com\n",
      "edwinamanning@orbixtar.com\n",
      "lucaswalsh@nipaz.com\n",
      "sykessuarez@viocular.com\n",
      "mercerblanchard@tropolis.com\n",
      "harriettyson@zizzle.com\n",
      "tamaraarnold@menbrain.com\n",
      "roseannsingleton@prosure.com\n"
     ]
    }
   ],
   "source": [
    "for i in info:\n",
    "    print(i[\"email\"])"
   ]
  },
  {
   "cell_type": "markdown",
   "id": "6cf95524",
   "metadata": {},
   "source": [
    "## Carregando um CSV"
   ]
  },
  {
   "cell_type": "code",
   "execution_count": 11,
   "id": "9f8b2ed8",
   "metadata": {},
   "outputs": [
    {
     "data": {
      "text/html": [
       "<div>\n",
       "<style scoped>\n",
       "    .dataframe tbody tr th:only-of-type {\n",
       "        vertical-align: middle;\n",
       "    }\n",
       "\n",
       "    .dataframe tbody tr th {\n",
       "        vertical-align: top;\n",
       "    }\n",
       "\n",
       "    .dataframe thead th {\n",
       "        text-align: right;\n",
       "    }\n",
       "</style>\n",
       "<table border=\"1\" class=\"dataframe\">\n",
       "  <thead>\n",
       "    <tr style=\"text-align: right;\">\n",
       "      <th></th>\n",
       "      <th>Series_reference</th>\n",
       "      <th>Period</th>\n",
       "      <th>Data_value</th>\n",
       "      <th>Suppressed</th>\n",
       "      <th>STATUS</th>\n",
       "      <th>UNITS</th>\n",
       "      <th>Magnitude</th>\n",
       "      <th>Subject</th>\n",
       "      <th>Group</th>\n",
       "      <th>Series_title_1</th>\n",
       "      <th>Series_title_2</th>\n",
       "      <th>Series_title_3</th>\n",
       "      <th>Series_title_4</th>\n",
       "      <th>Series_title_5</th>\n",
       "    </tr>\n",
       "  </thead>\n",
       "  <tbody>\n",
       "    <tr>\n",
       "      <th>0</th>\n",
       "      <td>BDCQ.SF1AA2CA</td>\n",
       "      <td>2016.06</td>\n",
       "      <td>1116.386</td>\n",
       "      <td>NaN</td>\n",
       "      <td>F</td>\n",
       "      <td>Dollars</td>\n",
       "      <td>6</td>\n",
       "      <td>Business Data Collection - BDC</td>\n",
       "      <td>Industry by financial variable (NZSIOC Level 2)</td>\n",
       "      <td>Sales (operating income)</td>\n",
       "      <td>Forestry and Logging</td>\n",
       "      <td>Current prices</td>\n",
       "      <td>Unadjusted</td>\n",
       "      <td>NaN</td>\n",
       "    </tr>\n",
       "    <tr>\n",
       "      <th>1</th>\n",
       "      <td>BDCQ.SF1AA2CA</td>\n",
       "      <td>2016.09</td>\n",
       "      <td>1070.874</td>\n",
       "      <td>NaN</td>\n",
       "      <td>F</td>\n",
       "      <td>Dollars</td>\n",
       "      <td>6</td>\n",
       "      <td>Business Data Collection - BDC</td>\n",
       "      <td>Industry by financial variable (NZSIOC Level 2)</td>\n",
       "      <td>Sales (operating income)</td>\n",
       "      <td>Forestry and Logging</td>\n",
       "      <td>Current prices</td>\n",
       "      <td>Unadjusted</td>\n",
       "      <td>NaN</td>\n",
       "    </tr>\n",
       "    <tr>\n",
       "      <th>2</th>\n",
       "      <td>BDCQ.SF1AA2CA</td>\n",
       "      <td>2016.12</td>\n",
       "      <td>1054.408</td>\n",
       "      <td>NaN</td>\n",
       "      <td>F</td>\n",
       "      <td>Dollars</td>\n",
       "      <td>6</td>\n",
       "      <td>Business Data Collection - BDC</td>\n",
       "      <td>Industry by financial variable (NZSIOC Level 2)</td>\n",
       "      <td>Sales (operating income)</td>\n",
       "      <td>Forestry and Logging</td>\n",
       "      <td>Current prices</td>\n",
       "      <td>Unadjusted</td>\n",
       "      <td>NaN</td>\n",
       "    </tr>\n",
       "    <tr>\n",
       "      <th>3</th>\n",
       "      <td>BDCQ.SF1AA2CA</td>\n",
       "      <td>2017.03</td>\n",
       "      <td>1010.665</td>\n",
       "      <td>NaN</td>\n",
       "      <td>F</td>\n",
       "      <td>Dollars</td>\n",
       "      <td>6</td>\n",
       "      <td>Business Data Collection - BDC</td>\n",
       "      <td>Industry by financial variable (NZSIOC Level 2)</td>\n",
       "      <td>Sales (operating income)</td>\n",
       "      <td>Forestry and Logging</td>\n",
       "      <td>Current prices</td>\n",
       "      <td>Unadjusted</td>\n",
       "      <td>NaN</td>\n",
       "    </tr>\n",
       "    <tr>\n",
       "      <th>4</th>\n",
       "      <td>BDCQ.SF1AA2CA</td>\n",
       "      <td>2017.06</td>\n",
       "      <td>1233.700</td>\n",
       "      <td>NaN</td>\n",
       "      <td>F</td>\n",
       "      <td>Dollars</td>\n",
       "      <td>6</td>\n",
       "      <td>Business Data Collection - BDC</td>\n",
       "      <td>Industry by financial variable (NZSIOC Level 2)</td>\n",
       "      <td>Sales (operating income)</td>\n",
       "      <td>Forestry and Logging</td>\n",
       "      <td>Current prices</td>\n",
       "      <td>Unadjusted</td>\n",
       "      <td>NaN</td>\n",
       "    </tr>\n",
       "    <tr>\n",
       "      <th>...</th>\n",
       "      <td>...</td>\n",
       "      <td>...</td>\n",
       "      <td>...</td>\n",
       "      <td>...</td>\n",
       "      <td>...</td>\n",
       "      <td>...</td>\n",
       "      <td>...</td>\n",
       "      <td>...</td>\n",
       "      <td>...</td>\n",
       "      <td>...</td>\n",
       "      <td>...</td>\n",
       "      <td>...</td>\n",
       "      <td>...</td>\n",
       "      <td>...</td>\n",
       "    </tr>\n",
       "    <tr>\n",
       "      <th>5435</th>\n",
       "      <td>BDCQ.SF8RSCA</td>\n",
       "      <td>2020.12</td>\n",
       "      <td>522.330</td>\n",
       "      <td>NaN</td>\n",
       "      <td>F</td>\n",
       "      <td>Dollars</td>\n",
       "      <td>6</td>\n",
       "      <td>Business Data Collection - BDC</td>\n",
       "      <td>Industry by financial variable (NZSIOC Level 1)</td>\n",
       "      <td>Operating profit</td>\n",
       "      <td>Arts, Recreation and Other Services</td>\n",
       "      <td>Current</td>\n",
       "      <td>Unadjusted</td>\n",
       "      <td>NaN</td>\n",
       "    </tr>\n",
       "    <tr>\n",
       "      <th>5436</th>\n",
       "      <td>BDCQ.SF8RSCA</td>\n",
       "      <td>2021.03</td>\n",
       "      <td>597.997</td>\n",
       "      <td>NaN</td>\n",
       "      <td>F</td>\n",
       "      <td>Dollars</td>\n",
       "      <td>6</td>\n",
       "      <td>Business Data Collection - BDC</td>\n",
       "      <td>Industry by financial variable (NZSIOC Level 1)</td>\n",
       "      <td>Operating profit</td>\n",
       "      <td>Arts, Recreation and Other Services</td>\n",
       "      <td>Current</td>\n",
       "      <td>Unadjusted</td>\n",
       "      <td>NaN</td>\n",
       "    </tr>\n",
       "    <tr>\n",
       "      <th>5437</th>\n",
       "      <td>BDCQ.SF8RSCA</td>\n",
       "      <td>2021.06</td>\n",
       "      <td>635.931</td>\n",
       "      <td>NaN</td>\n",
       "      <td>F</td>\n",
       "      <td>Dollars</td>\n",
       "      <td>6</td>\n",
       "      <td>Business Data Collection - BDC</td>\n",
       "      <td>Industry by financial variable (NZSIOC Level 1)</td>\n",
       "      <td>Operating profit</td>\n",
       "      <td>Arts, Recreation and Other Services</td>\n",
       "      <td>Current</td>\n",
       "      <td>Unadjusted</td>\n",
       "      <td>NaN</td>\n",
       "    </tr>\n",
       "    <tr>\n",
       "      <th>5438</th>\n",
       "      <td>BDCQ.SF8RSCA</td>\n",
       "      <td>2021.09</td>\n",
       "      <td>382.195</td>\n",
       "      <td>NaN</td>\n",
       "      <td>R</td>\n",
       "      <td>Dollars</td>\n",
       "      <td>6</td>\n",
       "      <td>Business Data Collection - BDC</td>\n",
       "      <td>Industry by financial variable (NZSIOC Level 1)</td>\n",
       "      <td>Operating profit</td>\n",
       "      <td>Arts, Recreation and Other Services</td>\n",
       "      <td>Current</td>\n",
       "      <td>Unadjusted</td>\n",
       "      <td>NaN</td>\n",
       "    </tr>\n",
       "    <tr>\n",
       "      <th>5439</th>\n",
       "      <td>BDCQ.SF8RSCA</td>\n",
       "      <td>2021.12</td>\n",
       "      <td>397.184</td>\n",
       "      <td>NaN</td>\n",
       "      <td>F</td>\n",
       "      <td>Dollars</td>\n",
       "      <td>6</td>\n",
       "      <td>Business Data Collection - BDC</td>\n",
       "      <td>Industry by financial variable (NZSIOC Level 1)</td>\n",
       "      <td>Operating profit</td>\n",
       "      <td>Arts, Recreation and Other Services</td>\n",
       "      <td>Current</td>\n",
       "      <td>Unadjusted</td>\n",
       "      <td>NaN</td>\n",
       "    </tr>\n",
       "  </tbody>\n",
       "</table>\n",
       "<p>5440 rows × 14 columns</p>\n",
       "</div>"
      ],
      "text/plain": [
       "     Series_reference   Period  Data_value  Suppressed STATUS    UNITS  \\\n",
       "0       BDCQ.SF1AA2CA  2016.06    1116.386         NaN      F  Dollars   \n",
       "1       BDCQ.SF1AA2CA  2016.09    1070.874         NaN      F  Dollars   \n",
       "2       BDCQ.SF1AA2CA  2016.12    1054.408         NaN      F  Dollars   \n",
       "3       BDCQ.SF1AA2CA  2017.03    1010.665         NaN      F  Dollars   \n",
       "4       BDCQ.SF1AA2CA  2017.06    1233.700         NaN      F  Dollars   \n",
       "...               ...      ...         ...         ...    ...      ...   \n",
       "5435     BDCQ.SF8RSCA  2020.12     522.330         NaN      F  Dollars   \n",
       "5436     BDCQ.SF8RSCA  2021.03     597.997         NaN      F  Dollars   \n",
       "5437     BDCQ.SF8RSCA  2021.06     635.931         NaN      F  Dollars   \n",
       "5438     BDCQ.SF8RSCA  2021.09     382.195         NaN      R  Dollars   \n",
       "5439     BDCQ.SF8RSCA  2021.12     397.184         NaN      F  Dollars   \n",
       "\n",
       "      Magnitude                         Subject  \\\n",
       "0             6  Business Data Collection - BDC   \n",
       "1             6  Business Data Collection - BDC   \n",
       "2             6  Business Data Collection - BDC   \n",
       "3             6  Business Data Collection - BDC   \n",
       "4             6  Business Data Collection - BDC   \n",
       "...         ...                             ...   \n",
       "5435          6  Business Data Collection - BDC   \n",
       "5436          6  Business Data Collection - BDC   \n",
       "5437          6  Business Data Collection - BDC   \n",
       "5438          6  Business Data Collection - BDC   \n",
       "5439          6  Business Data Collection - BDC   \n",
       "\n",
       "                                                Group  \\\n",
       "0     Industry by financial variable (NZSIOC Level 2)   \n",
       "1     Industry by financial variable (NZSIOC Level 2)   \n",
       "2     Industry by financial variable (NZSIOC Level 2)   \n",
       "3     Industry by financial variable (NZSIOC Level 2)   \n",
       "4     Industry by financial variable (NZSIOC Level 2)   \n",
       "...                                               ...   \n",
       "5435  Industry by financial variable (NZSIOC Level 1)   \n",
       "5436  Industry by financial variable (NZSIOC Level 1)   \n",
       "5437  Industry by financial variable (NZSIOC Level 1)   \n",
       "5438  Industry by financial variable (NZSIOC Level 1)   \n",
       "5439  Industry by financial variable (NZSIOC Level 1)   \n",
       "\n",
       "                Series_title_1                       Series_title_2  \\\n",
       "0     Sales (operating income)                 Forestry and Logging   \n",
       "1     Sales (operating income)                 Forestry and Logging   \n",
       "2     Sales (operating income)                 Forestry and Logging   \n",
       "3     Sales (operating income)                 Forestry and Logging   \n",
       "4     Sales (operating income)                 Forestry and Logging   \n",
       "...                        ...                                  ...   \n",
       "5435          Operating profit  Arts, Recreation and Other Services   \n",
       "5436          Operating profit  Arts, Recreation and Other Services   \n",
       "5437          Operating profit  Arts, Recreation and Other Services   \n",
       "5438          Operating profit  Arts, Recreation and Other Services   \n",
       "5439          Operating profit  Arts, Recreation and Other Services   \n",
       "\n",
       "      Series_title_3 Series_title_4  Series_title_5  \n",
       "0     Current prices     Unadjusted             NaN  \n",
       "1     Current prices     Unadjusted             NaN  \n",
       "2     Current prices     Unadjusted             NaN  \n",
       "3     Current prices     Unadjusted             NaN  \n",
       "4     Current prices     Unadjusted             NaN  \n",
       "...              ...            ...             ...  \n",
       "5435         Current     Unadjusted             NaN  \n",
       "5436         Current     Unadjusted             NaN  \n",
       "5437         Current     Unadjusted             NaN  \n",
       "5438         Current     Unadjusted             NaN  \n",
       "5439         Current     Unadjusted             NaN  \n",
       "\n",
       "[5440 rows x 14 columns]"
      ]
     },
     "execution_count": 11,
     "metadata": {},
     "output_type": "execute_result"
    }
   ],
   "source": [
    "import pandas as pd\n",
    "\n",
    "pd.read_csv(\"https://danielscarvalho.github.io/Insper-DS-A1/data/manufacturing.csv\")"
   ]
  },
  {
   "cell_type": "markdown",
   "id": "36698c80",
   "metadata": {},
   "source": [
    "É possível também buscar os dados do repositório (sem usar GitHub Pages - sem transformar o repo em site) usando o parâmetro **?raw=true** na URL "
   ]
  },
  {
   "cell_type": "code",
   "execution_count": 17,
   "id": "9ee923e1",
   "metadata": {},
   "outputs": [
    {
     "data": {
      "text/plain": [
       "'Twitter do Pro Daniel @danielscarvalho\\n\\n'"
      ]
     },
     "execution_count": 17,
     "metadata": {},
     "output_type": "execute_result"
    }
   ],
   "source": [
    "requests.get(\"https://github.com/danielscarvalho/Insper-DS-Dicas/blob/master/info.txt?raw=true\").text"
   ]
  },
  {
   "cell_type": "markdown",
   "id": "12d64a3c",
   "metadata": {},
   "source": [
    "Para saber mais sobre GitHub Pages:\n",
    "\n",
    "> Websites for you and your projects. Hosted directly from your GitHub repository. Just edit, push, and your changes are live.\n",
    "\n",
    "- https://pages.github.com/\n",
    "- https://www.youtube.com/watch?v=2MsN8gpT6jY"
   ]
  }
 ],
 "metadata": {
  "kernelspec": {
   "display_name": "Python 3",
   "language": "python",
   "name": "python3"
  },
  "language_info": {
   "codemirror_mode": {
    "name": "ipython",
    "version": 3
   },
   "file_extension": ".py",
   "mimetype": "text/x-python",
   "name": "python",
   "nbconvert_exporter": "python",
   "pygments_lexer": "ipython3",
   "version": "3.6.13"
  }
 },
 "nbformat": 4,
 "nbformat_minor": 5
}
